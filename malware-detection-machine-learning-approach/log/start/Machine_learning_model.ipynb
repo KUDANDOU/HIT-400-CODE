{
 "cells": [
  {
   "cell_type": "code",
   "execution_count": 26,
   "metadata": {
    "collapsed": true
   },
   "outputs": [],
   "source": [
    "import pandas as pd\n",
    "import numpy as np\n",
    "import pickle\n",
    "import sklearn.ensemble as ske\n",
    "from sklearn import cross_validation, tree, linear_model\n",
    "from sklearn.feature_selection import SelectFromModel\n",
    "from sklearn.externals import joblib\n",
    "from sklearn.naive_bayes import GaussianNB\n",
    "from sklearn.metrics import confusion_matrix"
   ]
  },
  {
   "cell_type": "code",
   "execution_count": 27,
   "metadata": {
    "collapsed": false
   },
   "outputs": [],
   "source": [
    "\n",
    "data = pd.read_csv('data.csv', sep='|')\n",
    "X = data.drop(['Name', 'md5', 'legitimate','ImageBase'], axis=1).values\n",
    "y = data['legitimate'].values"
   ]
  },
  {
   "cell_type": "code",
   "execution_count": 28,
   "metadata": {
    "collapsed": false
   },
   "outputs": [
    {
     "name": "stdout",
     "output_type": "stream",
     "text": [
      "Researching important feature based on 53 total features\n",
      "\n"
     ]
    }
   ],
   "source": [
    "print('Researching important feature based on %i total features\\n' % X.shape[1])"
   ]
  },
  {
   "cell_type": "code",
   "execution_count": 29,
   "metadata": {
    "collapsed": false
   },
   "outputs": [
    {
     "name": "stdout",
     "output_type": "stream",
     "text": [
      "<class 'pandas.core.frame.DataFrame'>\n",
      "RangeIndex: 138047 entries, 0 to 138046\n",
      "Data columns (total 57 columns):\n",
      "Name                           138047 non-null object\n",
      "md5                            138047 non-null object\n",
      "Machine                        138047 non-null int64\n",
      "SizeOfOptionalHeader           138047 non-null int64\n",
      "Characteristics                138047 non-null int64\n",
      "MajorLinkerVersion             138047 non-null int64\n",
      "MinorLinkerVersion             138047 non-null int64\n",
      "SizeOfCode                     138047 non-null int64\n",
      "SizeOfInitializedData          138047 non-null int64\n",
      "SizeOfUninitializedData        138047 non-null int64\n",
      "AddressOfEntryPoint            138047 non-null int64\n",
      "BaseOfCode                     138047 non-null int64\n",
      "BaseOfData                     138047 non-null int64\n",
      "ImageBase                      138047 non-null object\n",
      "SectionAlignment               138047 non-null int64\n",
      "FileAlignment                  138047 non-null int64\n",
      "MajorOperatingSystemVersion    138047 non-null int64\n",
      "MinorOperatingSystemVersion    138047 non-null int64\n",
      "MajorImageVersion              138047 non-null int64\n",
      "MinorImageVersion              138047 non-null int64\n",
      "MajorSubsystemVersion          138047 non-null int64\n",
      "MinorSubsystemVersion          138047 non-null int64\n",
      "SizeOfImage                    138047 non-null int64\n",
      "SizeOfHeaders                  138047 non-null int64\n",
      "CheckSum                       138047 non-null int64\n",
      "Subsystem                      138047 non-null int64\n",
      "DllCharacteristics             138047 non-null int64\n",
      "SizeOfStackReserve             138047 non-null int64\n",
      "SizeOfStackCommit              138047 non-null int64\n",
      "SizeOfHeapReserve              138047 non-null int64\n",
      "SizeOfHeapCommit               138047 non-null int64\n",
      "LoaderFlags                    138047 non-null int64\n",
      "NumberOfRvaAndSizes            138047 non-null int64\n",
      "SectionsNb                     138047 non-null int64\n",
      "SectionsMeanEntropy            138047 non-null float64\n",
      "SectionsMinEntropy             138047 non-null float64\n",
      "SectionsMaxEntropy             138047 non-null float64\n",
      "SectionsMeanRawsize            138047 non-null float64\n",
      "SectionsMinRawsize             138047 non-null int64\n",
      "SectionMaxRawsize              138047 non-null int64\n",
      "SectionsMeanVirtualsize        138047 non-null float64\n",
      "SectionsMinVirtualsize         138047 non-null int64\n",
      "SectionMaxVirtualsize          138047 non-null int64\n",
      "ImportsNbDLL                   138047 non-null int64\n",
      "ImportsNb                      138047 non-null int64\n",
      "ImportsNbOrdinal               138047 non-null int64\n",
      "ExportNb                       138047 non-null int64\n",
      "ResourcesNb                    138047 non-null int64\n",
      "ResourcesMeanEntropy           138047 non-null float64\n",
      "ResourcesMinEntropy            138047 non-null float64\n",
      "ResourcesMaxEntropy            138047 non-null float64\n",
      "ResourcesMeanSize              138047 non-null float64\n",
      "ResourcesMinSize               138047 non-null int64\n",
      "ResourcesMaxSize               138047 non-null int64\n",
      "LoadConfigurationSize          138047 non-null int64\n",
      "VersionInformationSize         138047 non-null int64\n",
      "legitimate                     138047 non-null int64\n",
      "dtypes: float64(9), int64(45), object(3)\n",
      "memory usage: 60.0+ MB\n"
     ]
    }
   ],
   "source": [
    "data.info()"
   ]
  },
  {
   "cell_type": "code",
   "execution_count": 30,
   "metadata": {
    "collapsed": true
   },
   "outputs": [],
   "source": [
    "# Feature selection using Trees Classifier\n",
    "fsel = ske.ExtraTreesClassifier().fit(X, y)\n",
    "model = SelectFromModel(fsel, prefit=True)\n",
    "X_new = model.transform(X)\n",
    "nb_features = X_new.shape[1]"
   ]
  },
  {
   "cell_type": "code",
   "execution_count": 31,
   "metadata": {
    "collapsed": true
   },
   "outputs": [],
   "source": [
    "X_train, X_test, y_train, y_test = cross_validation.train_test_split(X_new, y ,test_size=0.2)\n",
    "\n",
    "features = []"
   ]
  },
  {
   "cell_type": "code",
   "execution_count": 32,
   "metadata": {
    "collapsed": false
   },
   "outputs": [
    {
     "name": "stdout",
     "output_type": "stream",
     "text": [
      "11 features identified as important:\n"
     ]
    }
   ],
   "source": [
    "print('%i features identified as important:' % nb_features)"
   ]
  },
  {
   "cell_type": "code",
   "execution_count": 33,
   "metadata": {
    "collapsed": false
   },
   "outputs": [
    {
     "name": "stdout",
     "output_type": "stream",
     "text": [
      "1. feature Subsystem (0.161699)\n",
      "2. feature Machine (0.122218)\n",
      "3. feature LoadConfigurationSize (0.112629)\n",
      "4. feature MinorImageVersion (0.082488)\n",
      "5. feature ResourcesMeanEntropy (0.068195)\n",
      "6. feature SectionsMinEntropy (0.064333)\n",
      "7. feature SizeOfOptionalHeader (0.060621)\n",
      "8. feature Characteristics (0.044774)\n",
      "9. feature CheckSum (0.037737)\n",
      "10. feature SectionsMeanEntropy (0.032157)\n",
      "11. feature ResourcesMinEntropy (0.031673)\n"
     ]
    }
   ],
   "source": [
    "indices = np.argsort(fsel.feature_importances_)[::-1][:nb_features]\n",
    "for f in range(nb_features):\n",
    "    print(\"%d. feature %s (%f)\" % (f + 1, data.columns[2+indices[f]], fsel.feature_importances_[indices[f]]))\n"
   ]
  },
  {
   "cell_type": "code",
   "execution_count": 34,
   "metadata": {
    "collapsed": true
   },
   "outputs": [],
   "source": [
    "# XXX : take care of the feature order\n",
    "for f in sorted(np.argsort(fsel.feature_importances_)[::-1][:nb_features]):\n",
    "    features.append(data.columns[2+f])"
   ]
  },
  {
   "cell_type": "code",
   "execution_count": 35,
   "metadata": {
    "collapsed": true
   },
   "outputs": [],
   "source": [
    "#Algorithm comparison\n",
    "algorithms = {\n",
    "        \"DecisionTree\": tree.DecisionTreeClassifier(max_depth=10),\n",
    "        \"RandomForest\": ske.RandomForestClassifier(n_estimators=50),\n",
    "        \"GradientBoosting\": ske.GradientBoostingClassifier(n_estimators=50),\n",
    "        \"AdaBoost\": ske.AdaBoostClassifier(n_estimators=100),\n",
    "        \"GNB\": GaussianNB()\n",
    "    }"
   ]
  },
  {
   "cell_type": "code",
   "execution_count": 36,
   "metadata": {
    "collapsed": false
   },
   "outputs": [
    {
     "name": "stdout",
     "output_type": "stream",
     "text": [
      "\n",
      "Now testing algorithms\n",
      "GNB : 89.757334 %\n",
      "DecisionTree : 98.935168 %\n",
      "RandomForest : 99.369794 %\n",
      "AdaBoost : 98.649040 %\n",
      "GradientBoosting : 98.638175 %\n"
     ]
    }
   ],
   "source": [
    "results = {}\n",
    "print(\"\\nNow testing algorithms\")\n",
    "for algo in algorithms:\n",
    "    clf = algorithms[algo]\n",
    "    clf.fit(X_train, y_train)\n",
    "    score = clf.score(X_test, y_test)\n",
    "    print(\"%s : %f %%\" % (algo, score*100))\n",
    "    results[algo] = score\n",
    "    \n",
    "    \n",
    "    "
   ]
  },
  {
   "cell_type": "code",
   "execution_count": 37,
   "metadata": {
    "collapsed": false
   },
   "outputs": [
    {
     "name": "stdout",
     "output_type": "stream",
     "text": [
      "\n",
      "Winner algorithm is RandomForest with a 99.369794 % success\n"
     ]
    }
   ],
   "source": [
    "\n",
    "winner = max(results, key=results.get)\n",
    "print('\\nWinner algorithm is %s with a %f %% success' % (winner, results[winner]*100))"
   ]
  },
  {
   "cell_type": "code",
   "execution_count": 38,
   "metadata": {
    "collapsed": false
   },
   "outputs": [
    {
     "name": "stdout",
     "output_type": "stream",
     "text": [
      "Saving algorithm and feature list in classifier directory...\n",
      "Saved\n"
     ]
    }
   ],
   "source": [
    "# Save the algorithm and the feature list for later predictions\n",
    "print('Saving algorithm and feature list in classifier directory...')\n",
    "joblib.dump(algorithms[winner], 'classifier/classifier.pkl')\n",
    "open('classifier/features.pkl', 'w').write(pickle.dumps(features))\n",
    "print('Saved')"
   ]
  },
  {
   "cell_type": "code",
   "execution_count": 39,
   "metadata": {
    "collapsed": false
   },
   "outputs": [
    {
     "name": "stdout",
     "output_type": "stream",
     "text": [
      "False positive rate : 0.545568 %\n",
      "False negative rate : 0.824964 %\n"
     ]
    }
   ],
   "source": [
    "# Identify false and true positive rates\n",
    "clf = algorithms[winner]\n",
    "res = clf.predict(X_test)\n",
    "mt = confusion_matrix(y_test, res)\n",
    "print(\"False positive rate : %f %%\" % ((mt[0][1] / float(sum(mt[0])))*100))\n",
    "print('False negative rate : %f %%' % ( (mt[1][0] / float(sum(mt[1]))*100)))"
   ]
  },
  {
   "cell_type": "code",
   "execution_count": null,
   "metadata": {
    "collapsed": true
   },
   "outputs": [],
   "source": []
  }
 ],
 "metadata": {
  "kernelspec": {
   "display_name": "Python 2",
   "language": "python",
   "name": "python2"
  },
  "language_info": {
   "codemirror_mode": {
    "name": "ipython",
    "version": 2
   },
   "file_extension": ".py",
   "mimetype": "text/x-python",
   "name": "python",
   "nbconvert_exporter": "python",
   "pygments_lexer": "ipython2",
   "version": "2.7.12"
  }
 },
 "nbformat": 4,
 "nbformat_minor": 0
}
